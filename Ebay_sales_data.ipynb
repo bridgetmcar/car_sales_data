{
 "cells": [
  {
   "cell_type": "markdown",
   "metadata": {
    "collapsed": true
   },
   "source": [
    "# Dataset of used cars from eBay Kleinanzeigen, a classifieds section of the German eBay website."
   ]
  },
  {
   "cell_type": "code",
   "execution_count": 1,
   "metadata": {
    "collapsed": true
   },
   "outputs": [],
   "source": [
    "import numpy as np"
   ]
  },
  {
   "cell_type": "code",
   "execution_count": 2,
   "metadata": {
    "collapsed": true
   },
   "outputs": [],
   "source": [
    "import pandas as pd"
   ]
  },
  {
   "cell_type": "code",
   "execution_count": 3,
   "metadata": {},
   "outputs": [],
   "source": [
    "autos = pd.read_csv(\"autos.csv\", encoding=\"Latin-1\")"
   ]
  },
  {
   "cell_type": "code",
   "execution_count": 4,
   "metadata": {},
   "outputs": [
    {
     "name": "stdout",
     "output_type": "stream",
     "text": [
      "<class 'pandas.core.frame.DataFrame'>\n",
      "RangeIndex: 50000 entries, 0 to 49999\n",
      "Data columns (total 20 columns):\n",
      "dateCrawled            50000 non-null object\n",
      "name                   50000 non-null object\n",
      "seller                 50000 non-null object\n",
      "offerType              50000 non-null object\n",
      "price                  50000 non-null object\n",
      "abtest                 50000 non-null object\n",
      "vehicleType            44905 non-null object\n",
      "yearOfRegistration     50000 non-null int64\n",
      "gearbox                47320 non-null object\n",
      "powerPS                50000 non-null int64\n",
      "model                  47242 non-null object\n",
      "odometer               50000 non-null object\n",
      "monthOfRegistration    50000 non-null int64\n",
      "fuelType               45518 non-null object\n",
      "brand                  50000 non-null object\n",
      "notRepairedDamage      40171 non-null object\n",
      "dateCreated            50000 non-null object\n",
      "nrOfPictures           50000 non-null int64\n",
      "postalCode             50000 non-null int64\n",
      "lastSeen               50000 non-null object\n",
      "dtypes: int64(5), object(15)\n",
      "memory usage: 7.6+ MB\n"
     ]
    }
   ],
   "source": [
    "autos.info()"
   ]
  },
  {
   "cell_type": "code",
   "execution_count": 5,
   "metadata": {},
   "outputs": [
    {
     "data": {
      "text/html": [
       "<div>\n",
       "<style scoped>\n",
       "    .dataframe tbody tr th:only-of-type {\n",
       "        vertical-align: middle;\n",
       "    }\n",
       "\n",
       "    .dataframe tbody tr th {\n",
       "        vertical-align: top;\n",
       "    }\n",
       "\n",
       "    .dataframe thead th {\n",
       "        text-align: right;\n",
       "    }\n",
       "</style>\n",
       "<table border=\"1\" class=\"dataframe\">\n",
       "  <thead>\n",
       "    <tr style=\"text-align: right;\">\n",
       "      <th></th>\n",
       "      <th>dateCrawled</th>\n",
       "      <th>name</th>\n",
       "      <th>seller</th>\n",
       "      <th>offerType</th>\n",
       "      <th>price</th>\n",
       "      <th>abtest</th>\n",
       "      <th>vehicleType</th>\n",
       "      <th>yearOfRegistration</th>\n",
       "      <th>gearbox</th>\n",
       "      <th>powerPS</th>\n",
       "      <th>model</th>\n",
       "      <th>odometer</th>\n",
       "      <th>monthOfRegistration</th>\n",
       "      <th>fuelType</th>\n",
       "      <th>brand</th>\n",
       "      <th>notRepairedDamage</th>\n",
       "      <th>dateCreated</th>\n",
       "      <th>nrOfPictures</th>\n",
       "      <th>postalCode</th>\n",
       "      <th>lastSeen</th>\n",
       "    </tr>\n",
       "  </thead>\n",
       "  <tbody>\n",
       "    <tr>\n",
       "      <th>0</th>\n",
       "      <td>2016-03-26 17:47:46</td>\n",
       "      <td>Peugeot_807_160_NAVTECH_ON_BOARD</td>\n",
       "      <td>privat</td>\n",
       "      <td>Angebot</td>\n",
       "      <td>$5,000</td>\n",
       "      <td>control</td>\n",
       "      <td>bus</td>\n",
       "      <td>2004</td>\n",
       "      <td>manuell</td>\n",
       "      <td>158</td>\n",
       "      <td>andere</td>\n",
       "      <td>150,000km</td>\n",
       "      <td>3</td>\n",
       "      <td>lpg</td>\n",
       "      <td>peugeot</td>\n",
       "      <td>nein</td>\n",
       "      <td>2016-03-26 00:00:00</td>\n",
       "      <td>0</td>\n",
       "      <td>79588</td>\n",
       "      <td>2016-04-06 06:45:54</td>\n",
       "    </tr>\n",
       "    <tr>\n",
       "      <th>1</th>\n",
       "      <td>2016-04-04 13:38:56</td>\n",
       "      <td>BMW_740i_4_4_Liter_HAMANN_UMBAU_Mega_Optik</td>\n",
       "      <td>privat</td>\n",
       "      <td>Angebot</td>\n",
       "      <td>$8,500</td>\n",
       "      <td>control</td>\n",
       "      <td>limousine</td>\n",
       "      <td>1997</td>\n",
       "      <td>automatik</td>\n",
       "      <td>286</td>\n",
       "      <td>7er</td>\n",
       "      <td>150,000km</td>\n",
       "      <td>6</td>\n",
       "      <td>benzin</td>\n",
       "      <td>bmw</td>\n",
       "      <td>nein</td>\n",
       "      <td>2016-04-04 00:00:00</td>\n",
       "      <td>0</td>\n",
       "      <td>71034</td>\n",
       "      <td>2016-04-06 14:45:08</td>\n",
       "    </tr>\n",
       "    <tr>\n",
       "      <th>2</th>\n",
       "      <td>2016-03-26 18:57:24</td>\n",
       "      <td>Volkswagen_Golf_1.6_United</td>\n",
       "      <td>privat</td>\n",
       "      <td>Angebot</td>\n",
       "      <td>$8,990</td>\n",
       "      <td>test</td>\n",
       "      <td>limousine</td>\n",
       "      <td>2009</td>\n",
       "      <td>manuell</td>\n",
       "      <td>102</td>\n",
       "      <td>golf</td>\n",
       "      <td>70,000km</td>\n",
       "      <td>7</td>\n",
       "      <td>benzin</td>\n",
       "      <td>volkswagen</td>\n",
       "      <td>nein</td>\n",
       "      <td>2016-03-26 00:00:00</td>\n",
       "      <td>0</td>\n",
       "      <td>35394</td>\n",
       "      <td>2016-04-06 20:15:37</td>\n",
       "    </tr>\n",
       "    <tr>\n",
       "      <th>3</th>\n",
       "      <td>2016-03-12 16:58:10</td>\n",
       "      <td>Smart_smart_fortwo_coupe_softouch/F1/Klima/Pan...</td>\n",
       "      <td>privat</td>\n",
       "      <td>Angebot</td>\n",
       "      <td>$4,350</td>\n",
       "      <td>control</td>\n",
       "      <td>kleinwagen</td>\n",
       "      <td>2007</td>\n",
       "      <td>automatik</td>\n",
       "      <td>71</td>\n",
       "      <td>fortwo</td>\n",
       "      <td>70,000km</td>\n",
       "      <td>6</td>\n",
       "      <td>benzin</td>\n",
       "      <td>smart</td>\n",
       "      <td>nein</td>\n",
       "      <td>2016-03-12 00:00:00</td>\n",
       "      <td>0</td>\n",
       "      <td>33729</td>\n",
       "      <td>2016-03-15 03:16:28</td>\n",
       "    </tr>\n",
       "    <tr>\n",
       "      <th>4</th>\n",
       "      <td>2016-04-01 14:38:50</td>\n",
       "      <td>Ford_Focus_1_6_Benzin_TÜV_neu_ist_sehr_gepfleg...</td>\n",
       "      <td>privat</td>\n",
       "      <td>Angebot</td>\n",
       "      <td>$1,350</td>\n",
       "      <td>test</td>\n",
       "      <td>kombi</td>\n",
       "      <td>2003</td>\n",
       "      <td>manuell</td>\n",
       "      <td>0</td>\n",
       "      <td>focus</td>\n",
       "      <td>150,000km</td>\n",
       "      <td>7</td>\n",
       "      <td>benzin</td>\n",
       "      <td>ford</td>\n",
       "      <td>nein</td>\n",
       "      <td>2016-04-01 00:00:00</td>\n",
       "      <td>0</td>\n",
       "      <td>39218</td>\n",
       "      <td>2016-04-01 14:38:50</td>\n",
       "    </tr>\n",
       "  </tbody>\n",
       "</table>\n",
       "</div>"
      ],
      "text/plain": [
       "           dateCrawled                                               name  \\\n",
       "0  2016-03-26 17:47:46                   Peugeot_807_160_NAVTECH_ON_BOARD   \n",
       "1  2016-04-04 13:38:56         BMW_740i_4_4_Liter_HAMANN_UMBAU_Mega_Optik   \n",
       "2  2016-03-26 18:57:24                         Volkswagen_Golf_1.6_United   \n",
       "3  2016-03-12 16:58:10  Smart_smart_fortwo_coupe_softouch/F1/Klima/Pan...   \n",
       "4  2016-04-01 14:38:50  Ford_Focus_1_6_Benzin_TÜV_neu_ist_sehr_gepfleg...   \n",
       "\n",
       "   seller offerType   price   abtest vehicleType  yearOfRegistration  \\\n",
       "0  privat   Angebot  $5,000  control         bus                2004   \n",
       "1  privat   Angebot  $8,500  control   limousine                1997   \n",
       "2  privat   Angebot  $8,990     test   limousine                2009   \n",
       "3  privat   Angebot  $4,350  control  kleinwagen                2007   \n",
       "4  privat   Angebot  $1,350     test       kombi                2003   \n",
       "\n",
       "     gearbox  powerPS   model   odometer  monthOfRegistration fuelType  \\\n",
       "0    manuell      158  andere  150,000km                    3      lpg   \n",
       "1  automatik      286     7er  150,000km                    6   benzin   \n",
       "2    manuell      102    golf   70,000km                    7   benzin   \n",
       "3  automatik       71  fortwo   70,000km                    6   benzin   \n",
       "4    manuell        0   focus  150,000km                    7   benzin   \n",
       "\n",
       "        brand notRepairedDamage          dateCreated  nrOfPictures  \\\n",
       "0     peugeot              nein  2016-03-26 00:00:00             0   \n",
       "1         bmw              nein  2016-04-04 00:00:00             0   \n",
       "2  volkswagen              nein  2016-03-26 00:00:00             0   \n",
       "3       smart              nein  2016-03-12 00:00:00             0   \n",
       "4        ford              nein  2016-04-01 00:00:00             0   \n",
       "\n",
       "   postalCode             lastSeen  \n",
       "0       79588  2016-04-06 06:45:54  \n",
       "1       71034  2016-04-06 14:45:08  \n",
       "2       35394  2016-04-06 20:15:37  \n",
       "3       33729  2016-03-15 03:16:28  \n",
       "4       39218  2016-04-01 14:38:50  "
      ]
     },
     "execution_count": 5,
     "metadata": {},
     "output_type": "execute_result"
    }
   ],
   "source": [
    "autos.head()"
   ]
  },
  {
   "cell_type": "markdown",
   "metadata": {},
   "source": [
    "The dataset has the classified entries stored mainly as object with some integers. There are 50,000 rows, some having null objects."
   ]
  },
  {
   "cell_type": "code",
   "execution_count": 6,
   "metadata": {},
   "outputs": [],
   "source": [
    "autos.columns = ['date_crawled', 'name', 'seller', 'offer_type', 'price', 'ab_test',  'vehicle_type', 'registration_year', 'gear_box',  'power_ps', 'model', 'odometer', 'registration_month', 'fuel_type', 'brand', 'unrepaired_damage', 'ad_created', 'no_pictures', 'postal_code', 'last_seen'] "
   ]
  },
  {
   "cell_type": "code",
   "execution_count": 7,
   "metadata": {
    "scrolled": true
   },
   "outputs": [
    {
     "data": {
      "text/html": [
       "<div>\n",
       "<style scoped>\n",
       "    .dataframe tbody tr th:only-of-type {\n",
       "        vertical-align: middle;\n",
       "    }\n",
       "\n",
       "    .dataframe tbody tr th {\n",
       "        vertical-align: top;\n",
       "    }\n",
       "\n",
       "    .dataframe thead th {\n",
       "        text-align: right;\n",
       "    }\n",
       "</style>\n",
       "<table border=\"1\" class=\"dataframe\">\n",
       "  <thead>\n",
       "    <tr style=\"text-align: right;\">\n",
       "      <th></th>\n",
       "      <th>date_crawled</th>\n",
       "      <th>name</th>\n",
       "      <th>seller</th>\n",
       "      <th>offer_type</th>\n",
       "      <th>price</th>\n",
       "      <th>ab_test</th>\n",
       "      <th>vehicle_type</th>\n",
       "      <th>registration_year</th>\n",
       "      <th>gear_box</th>\n",
       "      <th>power_ps</th>\n",
       "      <th>model</th>\n",
       "      <th>odometer</th>\n",
       "      <th>registration_month</th>\n",
       "      <th>fuel_type</th>\n",
       "      <th>brand</th>\n",
       "      <th>unrepaired_damage</th>\n",
       "      <th>ad_created</th>\n",
       "      <th>no_pictures</th>\n",
       "      <th>postal_code</th>\n",
       "      <th>last_seen</th>\n",
       "    </tr>\n",
       "  </thead>\n",
       "  <tbody>\n",
       "    <tr>\n",
       "      <th>count</th>\n",
       "      <td>50000</td>\n",
       "      <td>50000</td>\n",
       "      <td>50000</td>\n",
       "      <td>50000</td>\n",
       "      <td>50000</td>\n",
       "      <td>50000</td>\n",
       "      <td>44905</td>\n",
       "      <td>50000.000000</td>\n",
       "      <td>47320</td>\n",
       "      <td>50000.000000</td>\n",
       "      <td>47242</td>\n",
       "      <td>50000</td>\n",
       "      <td>50000.000000</td>\n",
       "      <td>45518</td>\n",
       "      <td>50000</td>\n",
       "      <td>40171</td>\n",
       "      <td>50000</td>\n",
       "      <td>50000.0</td>\n",
       "      <td>50000.000000</td>\n",
       "      <td>50000</td>\n",
       "    </tr>\n",
       "    <tr>\n",
       "      <th>unique</th>\n",
       "      <td>48213</td>\n",
       "      <td>38754</td>\n",
       "      <td>2</td>\n",
       "      <td>2</td>\n",
       "      <td>2357</td>\n",
       "      <td>2</td>\n",
       "      <td>8</td>\n",
       "      <td>NaN</td>\n",
       "      <td>2</td>\n",
       "      <td>NaN</td>\n",
       "      <td>245</td>\n",
       "      <td>13</td>\n",
       "      <td>NaN</td>\n",
       "      <td>7</td>\n",
       "      <td>40</td>\n",
       "      <td>2</td>\n",
       "      <td>76</td>\n",
       "      <td>NaN</td>\n",
       "      <td>NaN</td>\n",
       "      <td>39481</td>\n",
       "    </tr>\n",
       "    <tr>\n",
       "      <th>top</th>\n",
       "      <td>2016-03-09 11:54:38</td>\n",
       "      <td>Ford_Fiesta</td>\n",
       "      <td>privat</td>\n",
       "      <td>Angebot</td>\n",
       "      <td>$0</td>\n",
       "      <td>test</td>\n",
       "      <td>limousine</td>\n",
       "      <td>NaN</td>\n",
       "      <td>manuell</td>\n",
       "      <td>NaN</td>\n",
       "      <td>golf</td>\n",
       "      <td>150,000km</td>\n",
       "      <td>NaN</td>\n",
       "      <td>benzin</td>\n",
       "      <td>volkswagen</td>\n",
       "      <td>nein</td>\n",
       "      <td>2016-04-03 00:00:00</td>\n",
       "      <td>NaN</td>\n",
       "      <td>NaN</td>\n",
       "      <td>2016-04-07 06:17:27</td>\n",
       "    </tr>\n",
       "    <tr>\n",
       "      <th>freq</th>\n",
       "      <td>3</td>\n",
       "      <td>78</td>\n",
       "      <td>49999</td>\n",
       "      <td>49999</td>\n",
       "      <td>1421</td>\n",
       "      <td>25756</td>\n",
       "      <td>12859</td>\n",
       "      <td>NaN</td>\n",
       "      <td>36993</td>\n",
       "      <td>NaN</td>\n",
       "      <td>4024</td>\n",
       "      <td>32424</td>\n",
       "      <td>NaN</td>\n",
       "      <td>30107</td>\n",
       "      <td>10687</td>\n",
       "      <td>35232</td>\n",
       "      <td>1946</td>\n",
       "      <td>NaN</td>\n",
       "      <td>NaN</td>\n",
       "      <td>8</td>\n",
       "    </tr>\n",
       "    <tr>\n",
       "      <th>mean</th>\n",
       "      <td>NaN</td>\n",
       "      <td>NaN</td>\n",
       "      <td>NaN</td>\n",
       "      <td>NaN</td>\n",
       "      <td>NaN</td>\n",
       "      <td>NaN</td>\n",
       "      <td>NaN</td>\n",
       "      <td>2005.073280</td>\n",
       "      <td>NaN</td>\n",
       "      <td>116.355920</td>\n",
       "      <td>NaN</td>\n",
       "      <td>NaN</td>\n",
       "      <td>5.723360</td>\n",
       "      <td>NaN</td>\n",
       "      <td>NaN</td>\n",
       "      <td>NaN</td>\n",
       "      <td>NaN</td>\n",
       "      <td>0.0</td>\n",
       "      <td>50813.627300</td>\n",
       "      <td>NaN</td>\n",
       "    </tr>\n",
       "    <tr>\n",
       "      <th>std</th>\n",
       "      <td>NaN</td>\n",
       "      <td>NaN</td>\n",
       "      <td>NaN</td>\n",
       "      <td>NaN</td>\n",
       "      <td>NaN</td>\n",
       "      <td>NaN</td>\n",
       "      <td>NaN</td>\n",
       "      <td>105.712813</td>\n",
       "      <td>NaN</td>\n",
       "      <td>209.216627</td>\n",
       "      <td>NaN</td>\n",
       "      <td>NaN</td>\n",
       "      <td>3.711984</td>\n",
       "      <td>NaN</td>\n",
       "      <td>NaN</td>\n",
       "      <td>NaN</td>\n",
       "      <td>NaN</td>\n",
       "      <td>0.0</td>\n",
       "      <td>25779.747957</td>\n",
       "      <td>NaN</td>\n",
       "    </tr>\n",
       "    <tr>\n",
       "      <th>min</th>\n",
       "      <td>NaN</td>\n",
       "      <td>NaN</td>\n",
       "      <td>NaN</td>\n",
       "      <td>NaN</td>\n",
       "      <td>NaN</td>\n",
       "      <td>NaN</td>\n",
       "      <td>NaN</td>\n",
       "      <td>1000.000000</td>\n",
       "      <td>NaN</td>\n",
       "      <td>0.000000</td>\n",
       "      <td>NaN</td>\n",
       "      <td>NaN</td>\n",
       "      <td>0.000000</td>\n",
       "      <td>NaN</td>\n",
       "      <td>NaN</td>\n",
       "      <td>NaN</td>\n",
       "      <td>NaN</td>\n",
       "      <td>0.0</td>\n",
       "      <td>1067.000000</td>\n",
       "      <td>NaN</td>\n",
       "    </tr>\n",
       "    <tr>\n",
       "      <th>25%</th>\n",
       "      <td>NaN</td>\n",
       "      <td>NaN</td>\n",
       "      <td>NaN</td>\n",
       "      <td>NaN</td>\n",
       "      <td>NaN</td>\n",
       "      <td>NaN</td>\n",
       "      <td>NaN</td>\n",
       "      <td>1999.000000</td>\n",
       "      <td>NaN</td>\n",
       "      <td>70.000000</td>\n",
       "      <td>NaN</td>\n",
       "      <td>NaN</td>\n",
       "      <td>3.000000</td>\n",
       "      <td>NaN</td>\n",
       "      <td>NaN</td>\n",
       "      <td>NaN</td>\n",
       "      <td>NaN</td>\n",
       "      <td>0.0</td>\n",
       "      <td>30451.000000</td>\n",
       "      <td>NaN</td>\n",
       "    </tr>\n",
       "    <tr>\n",
       "      <th>50%</th>\n",
       "      <td>NaN</td>\n",
       "      <td>NaN</td>\n",
       "      <td>NaN</td>\n",
       "      <td>NaN</td>\n",
       "      <td>NaN</td>\n",
       "      <td>NaN</td>\n",
       "      <td>NaN</td>\n",
       "      <td>2003.000000</td>\n",
       "      <td>NaN</td>\n",
       "      <td>105.000000</td>\n",
       "      <td>NaN</td>\n",
       "      <td>NaN</td>\n",
       "      <td>6.000000</td>\n",
       "      <td>NaN</td>\n",
       "      <td>NaN</td>\n",
       "      <td>NaN</td>\n",
       "      <td>NaN</td>\n",
       "      <td>0.0</td>\n",
       "      <td>49577.000000</td>\n",
       "      <td>NaN</td>\n",
       "    </tr>\n",
       "    <tr>\n",
       "      <th>75%</th>\n",
       "      <td>NaN</td>\n",
       "      <td>NaN</td>\n",
       "      <td>NaN</td>\n",
       "      <td>NaN</td>\n",
       "      <td>NaN</td>\n",
       "      <td>NaN</td>\n",
       "      <td>NaN</td>\n",
       "      <td>2008.000000</td>\n",
       "      <td>NaN</td>\n",
       "      <td>150.000000</td>\n",
       "      <td>NaN</td>\n",
       "      <td>NaN</td>\n",
       "      <td>9.000000</td>\n",
       "      <td>NaN</td>\n",
       "      <td>NaN</td>\n",
       "      <td>NaN</td>\n",
       "      <td>NaN</td>\n",
       "      <td>0.0</td>\n",
       "      <td>71540.000000</td>\n",
       "      <td>NaN</td>\n",
       "    </tr>\n",
       "    <tr>\n",
       "      <th>max</th>\n",
       "      <td>NaN</td>\n",
       "      <td>NaN</td>\n",
       "      <td>NaN</td>\n",
       "      <td>NaN</td>\n",
       "      <td>NaN</td>\n",
       "      <td>NaN</td>\n",
       "      <td>NaN</td>\n",
       "      <td>9999.000000</td>\n",
       "      <td>NaN</td>\n",
       "      <td>17700.000000</td>\n",
       "      <td>NaN</td>\n",
       "      <td>NaN</td>\n",
       "      <td>12.000000</td>\n",
       "      <td>NaN</td>\n",
       "      <td>NaN</td>\n",
       "      <td>NaN</td>\n",
       "      <td>NaN</td>\n",
       "      <td>0.0</td>\n",
       "      <td>99998.000000</td>\n",
       "      <td>NaN</td>\n",
       "    </tr>\n",
       "  </tbody>\n",
       "</table>\n",
       "</div>"
      ],
      "text/plain": [
       "               date_crawled         name  seller offer_type  price ab_test  \\\n",
       "count                 50000        50000   50000      50000  50000   50000   \n",
       "unique                48213        38754       2          2   2357       2   \n",
       "top     2016-03-09 11:54:38  Ford_Fiesta  privat    Angebot     $0    test   \n",
       "freq                      3           78   49999      49999   1421   25756   \n",
       "mean                    NaN          NaN     NaN        NaN    NaN     NaN   \n",
       "std                     NaN          NaN     NaN        NaN    NaN     NaN   \n",
       "min                     NaN          NaN     NaN        NaN    NaN     NaN   \n",
       "25%                     NaN          NaN     NaN        NaN    NaN     NaN   \n",
       "50%                     NaN          NaN     NaN        NaN    NaN     NaN   \n",
       "75%                     NaN          NaN     NaN        NaN    NaN     NaN   \n",
       "max                     NaN          NaN     NaN        NaN    NaN     NaN   \n",
       "\n",
       "       vehicle_type  registration_year gear_box      power_ps  model  \\\n",
       "count         44905       50000.000000    47320  50000.000000  47242   \n",
       "unique            8                NaN        2           NaN    245   \n",
       "top       limousine                NaN  manuell           NaN   golf   \n",
       "freq          12859                NaN    36993           NaN   4024   \n",
       "mean            NaN        2005.073280      NaN    116.355920    NaN   \n",
       "std             NaN         105.712813      NaN    209.216627    NaN   \n",
       "min             NaN        1000.000000      NaN      0.000000    NaN   \n",
       "25%             NaN        1999.000000      NaN     70.000000    NaN   \n",
       "50%             NaN        2003.000000      NaN    105.000000    NaN   \n",
       "75%             NaN        2008.000000      NaN    150.000000    NaN   \n",
       "max             NaN        9999.000000      NaN  17700.000000    NaN   \n",
       "\n",
       "         odometer  registration_month fuel_type       brand unrepaired_damage  \\\n",
       "count       50000        50000.000000     45518       50000             40171   \n",
       "unique         13                 NaN         7          40                 2   \n",
       "top     150,000km                 NaN    benzin  volkswagen              nein   \n",
       "freq        32424                 NaN     30107       10687             35232   \n",
       "mean          NaN            5.723360       NaN         NaN               NaN   \n",
       "std           NaN            3.711984       NaN         NaN               NaN   \n",
       "min           NaN            0.000000       NaN         NaN               NaN   \n",
       "25%           NaN            3.000000       NaN         NaN               NaN   \n",
       "50%           NaN            6.000000       NaN         NaN               NaN   \n",
       "75%           NaN            9.000000       NaN         NaN               NaN   \n",
       "max           NaN           12.000000       NaN         NaN               NaN   \n",
       "\n",
       "                 ad_created  no_pictures   postal_code            last_seen  \n",
       "count                 50000      50000.0  50000.000000                50000  \n",
       "unique                   76          NaN           NaN                39481  \n",
       "top     2016-04-03 00:00:00          NaN           NaN  2016-04-07 06:17:27  \n",
       "freq                   1946          NaN           NaN                    8  \n",
       "mean                    NaN          0.0  50813.627300                  NaN  \n",
       "std                     NaN          0.0  25779.747957                  NaN  \n",
       "min                     NaN          0.0   1067.000000                  NaN  \n",
       "25%                     NaN          0.0  30451.000000                  NaN  \n",
       "50%                     NaN          0.0  49577.000000                  NaN  \n",
       "75%                     NaN          0.0  71540.000000                  NaN  \n",
       "max                     NaN          0.0  99998.000000                  NaN  "
      ]
     },
     "execution_count": 7,
     "metadata": {},
     "output_type": "execute_result"
    }
   ],
   "source": [
    "autos.describe(include='all')"
   ]
  },
  {
   "cell_type": "markdown",
   "metadata": {},
   "source": [
    "## Columns such as price and odometer are not numbers & need to be converted "
   ]
  },
  {
   "cell_type": "code",
   "execution_count": 8,
   "metadata": {},
   "outputs": [
    {
     "data": {
      "text/plain": [
       "array(['$5,000', '$8,500', '$8,990', ..., '$385', '$22,200', '$16,995'],\n",
       "      dtype=object)"
      ]
     },
     "execution_count": 8,
     "metadata": {},
     "output_type": "execute_result"
    }
   ],
   "source": [
    "autos['price'].unique()"
   ]
  },
  {
   "cell_type": "code",
   "execution_count": 9,
   "metadata": {},
   "outputs": [
    {
     "data": {
      "text/plain": [
       "array(['150,000km', '70,000km', '50,000km', '80,000km', '10,000km',\n",
       "       '30,000km', '125,000km', '90,000km', '20,000km', '60,000km',\n",
       "       '5,000km', '100,000km', '40,000km'], dtype=object)"
      ]
     },
     "execution_count": 9,
     "metadata": {},
     "output_type": "execute_result"
    }
   ],
   "source": [
    "autos['odometer'].unique()"
   ]
  },
  {
   "cell_type": "code",
   "execution_count": 10,
   "metadata": {
    "collapsed": true
   },
   "outputs": [],
   "source": [
    "autos['price'] = autos['price'].str.replace('$', '')\n",
    "autos['price'] = autos['price'].str.replace(',', '')"
   ]
  },
  {
   "cell_type": "code",
   "execution_count": 11,
   "metadata": {},
   "outputs": [],
   "source": [
    "autos['price'] = autos['price'].astype(int)"
   ]
  },
  {
   "cell_type": "code",
   "execution_count": 12,
   "metadata": {},
   "outputs": [],
   "source": [
    "autos['odometer'] = autos['odometer'].str.replace(\",\", '')\n",
    "autos['odometer'] = autos['odometer'].str.replace('km', '')"
   ]
  },
  {
   "cell_type": "code",
   "execution_count": 13,
   "metadata": {},
   "outputs": [],
   "source": [
    "autos['odometer'] = autos['odometer'].astype(int)"
   ]
  },
  {
   "cell_type": "code",
   "execution_count": 14,
   "metadata": {},
   "outputs": [
    {
     "name": "stdout",
     "output_type": "stream",
     "text": [
      "<class 'pandas.core.frame.DataFrame'>\n",
      "RangeIndex: 50000 entries, 0 to 49999\n",
      "Data columns (total 20 columns):\n",
      "date_crawled          50000 non-null object\n",
      "name                  50000 non-null object\n",
      "seller                50000 non-null object\n",
      "offer_type            50000 non-null object\n",
      "price                 50000 non-null int64\n",
      "ab_test               50000 non-null object\n",
      "vehicle_type          44905 non-null object\n",
      "registration_year     50000 non-null int64\n",
      "gear_box              47320 non-null object\n",
      "power_ps              50000 non-null int64\n",
      "model                 47242 non-null object\n",
      "odometer              50000 non-null int64\n",
      "registration_month    50000 non-null int64\n",
      "fuel_type             45518 non-null object\n",
      "brand                 50000 non-null object\n",
      "unrepaired_damage     40171 non-null object\n",
      "ad_created            50000 non-null object\n",
      "no_pictures           50000 non-null int64\n",
      "postal_code           50000 non-null int64\n",
      "last_seen             50000 non-null object\n",
      "dtypes: int64(7), object(13)\n",
      "memory usage: 7.6+ MB\n"
     ]
    }
   ],
   "source": [
    "autos.info()"
   ]
  },
  {
   "cell_type": "code",
   "execution_count": 15,
   "metadata": {},
   "outputs": [],
   "source": [
    "autos.rename(columns={'odometer': 'odometer_kms'}, inplace=True)"
   ]
  },
  {
   "cell_type": "code",
   "execution_count": 16,
   "metadata": {},
   "outputs": [
    {
     "data": {
      "text/plain": [
       "privat        49999\n",
       "gewerblich        1\n",
       "Name: seller, dtype: int64"
      ]
     },
     "execution_count": 16,
     "metadata": {},
     "output_type": "execute_result"
    }
   ],
   "source": [
    "autos['seller'].value_counts()"
   ]
  },
  {
   "cell_type": "markdown",
   "metadata": {},
   "source": [
    "Seller is almost all the same value - can be dropped"
   ]
  },
  {
   "cell_type": "code",
   "execution_count": 17,
   "metadata": {},
   "outputs": [
    {
     "data": {
      "text/plain": [
       "Angebot    49999\n",
       "Gesuch         1\n",
       "Name: offer_type, dtype: int64"
      ]
     },
     "execution_count": 17,
     "metadata": {},
     "output_type": "execute_result"
    }
   ],
   "source": [
    "autos['offer_type'].value_counts()"
   ]
  },
  {
   "cell_type": "markdown",
   "metadata": {},
   "source": [
    "Offer type can also be dropped"
   ]
  },
  {
   "cell_type": "markdown",
   "metadata": {},
   "source": [
    "## Looking for outliers in price and odometer values"
   ]
  },
  {
   "cell_type": "code",
   "execution_count": 18,
   "metadata": {},
   "outputs": [],
   "source": [
    "unique = autos['price']\n",
    "unique_dict = {}\n",
    "for i in unique:\n",
    "    if i in  unique_dict:\n",
    "        unique_dict[i] += 1\n",
    "    else:\n",
    "        unique_dict[i] = 1\n",
    "        "
   ]
  },
  {
   "cell_type": "code",
   "execution_count": 20,
   "metadata": {},
   "outputs": [
    {
     "data": {
      "text/plain": [
       "count    5.000000e+04\n",
       "mean     9.840044e+03\n",
       "std      4.811044e+05\n",
       "min      0.000000e+00\n",
       "25%      1.100000e+03\n",
       "50%      2.950000e+03\n",
       "75%      7.200000e+03\n",
       "max      1.000000e+08\n",
       "Name: price, dtype: float64"
      ]
     },
     "execution_count": 20,
     "metadata": {},
     "output_type": "execute_result"
    }
   ],
   "source": [
    "autos['price'].describe()"
   ]
  },
  {
   "cell_type": "code",
   "execution_count": 21,
   "metadata": {},
   "outputs": [
    {
     "data": {
      "text/plain": [
       "39705    99999999\n",
       "42221    27322222\n",
       "39377    12345678\n",
       "47598    12345678\n",
       "27371    12345678\n",
       "2897     11111111\n",
       "24384    11111111\n",
       "11137    10000000\n",
       "47634     3890000\n",
       "7814      1300000\n",
       "22947     1234566\n",
       "43049      999999\n",
       "514        999999\n",
       "37585      999990\n",
       "36818      350000\n",
       "14715      345000\n",
       "34723      299000\n",
       "35923      295000\n",
       "12682      265000\n",
       "47337      259000\n",
       "38299      250000\n",
       "37840      220000\n",
       "40918      198000\n",
       "43668      197000\n",
       "28090      194000\n",
       "20351      190000\n",
       "17140      180000\n",
       "11433      175000\n",
       "32840      169999\n",
       "18509      169000\n",
       "Name: price, dtype: int64"
      ]
     },
     "execution_count": 21,
     "metadata": {},
     "output_type": "execute_result"
    }
   ],
   "source": [
    "autos['price'].sort_values(ascending=False).head(30)"
   ]
  },
  {
   "cell_type": "markdown",
   "metadata": {},
   "source": [
    "### Taking outlier prices out - keeping prices between 99 and 350001"
   ]
  },
  {
   "cell_type": "code",
   "execution_count": 22,
   "metadata": {},
   "outputs": [],
   "source": [
    "autos = autos[autos['price'].between(99,350001)]"
   ]
  },
  {
   "cell_type": "code",
   "execution_count": 23,
   "metadata": {},
   "outputs": [
    {
     "data": {
      "text/plain": [
       "count     48243.000000\n",
       "mean       5928.074809\n",
       "std        9077.322281\n",
       "min          99.000000\n",
       "25%        1250.000000\n",
       "50%        3000.000000\n",
       "75%        7499.000000\n",
       "max      350000.000000\n",
       "Name: price, dtype: float64"
      ]
     },
     "execution_count": 23,
     "metadata": {},
     "output_type": "execute_result"
    }
   ],
   "source": [
    "autos['price'].describe()"
   ]
  },
  {
   "cell_type": "code",
   "execution_count": 24,
   "metadata": {},
   "outputs": [
    {
     "data": {
      "text/plain": [
       "count     48243.000000\n",
       "mean     125923.035466\n",
       "std       39541.689312\n",
       "min        5000.000000\n",
       "25%      125000.000000\n",
       "50%      150000.000000\n",
       "75%      150000.000000\n",
       "max      150000.000000\n",
       "Name: odometer_kms, dtype: float64"
      ]
     },
     "execution_count": 24,
     "metadata": {},
     "output_type": "execute_result"
    }
   ],
   "source": [
    "autos['odometer_kms'].describe()"
   ]
  },
  {
   "cell_type": "code",
   "execution_count": 25,
   "metadata": {},
   "outputs": [
    {
     "data": {
      "text/plain": [
       "21421      5000\n",
       "25837      5000\n",
       "10789      5000\n",
       "30675      5000\n",
       "43032      5000\n",
       "33304      5000\n",
       "25903      5000\n",
       "10648      5000\n",
       "25916      5000\n",
       "10628      5000\n",
       "10621      5000\n",
       "25925      5000\n",
       "10607      5000\n",
       "10584      5000\n",
       "30670      5000\n",
       "25936      5000\n",
       "10541      5000\n",
       "25964      5000\n",
       "43233      5000\n",
       "10456      5000\n",
       "10442      5000\n",
       "10429      5000\n",
       "10368      5000\n",
       "26024      5000\n",
       "1011       5000\n",
       "43342      5000\n",
       "10249      5000\n",
       "26103      5000\n",
       "43422      5000\n",
       "10556      5000\n",
       "          ...  \n",
       "20234    150000\n",
       "20225    150000\n",
       "20235    150000\n",
       "20238    150000\n",
       "20239    150000\n",
       "20240    150000\n",
       "20241    150000\n",
       "20242    150000\n",
       "20243    150000\n",
       "20237    150000\n",
       "20223    150000\n",
       "20222    150000\n",
       "20221    150000\n",
       "20195    150000\n",
       "20196    150000\n",
       "20198    150000\n",
       "20199    150000\n",
       "20200    150000\n",
       "20201    150000\n",
       "20202    150000\n",
       "20203    150000\n",
       "20206    150000\n",
       "20207    150000\n",
       "20208    150000\n",
       "20214    150000\n",
       "20216    150000\n",
       "20217    150000\n",
       "20220    150000\n",
       "20191    150000\n",
       "49999    150000\n",
       "Name: odometer_kms, Length: 48243, dtype: int64"
      ]
     },
     "execution_count": 25,
     "metadata": {},
     "output_type": "execute_result"
    }
   ],
   "source": [
    "autos['odometer_kms'].sort_values(ascending=True)"
   ]
  },
  {
   "cell_type": "markdown",
   "metadata": {},
   "source": [
    "There seems to be no odometer outliers needing removal"
   ]
  },
  {
   "cell_type": "markdown",
   "metadata": {},
   "source": [
    "## Converting and checking dates"
   ]
  },
  {
   "cell_type": "code",
   "execution_count": 26,
   "metadata": {},
   "outputs": [],
   "source": [
    "autos['date_crawled'] = autos['date_crawled'].str[:10]"
   ]
  },
  {
   "cell_type": "code",
   "execution_count": 27,
   "metadata": {},
   "outputs": [
    {
     "data": {
      "text/plain": [
       "count          48243\n",
       "unique            34\n",
       "top       2016-04-03\n",
       "freq            1862\n",
       "Name: date_crawled, dtype: object"
      ]
     },
     "execution_count": 27,
     "metadata": {},
     "output_type": "execute_result"
    }
   ],
   "source": [
    "autos['date_crawled'].describe()"
   ]
  },
  {
   "cell_type": "code",
   "execution_count": 28,
   "metadata": {},
   "outputs": [
    {
     "data": {
      "text/plain": [
       "2016-04-03    0.038596\n",
       "2016-03-20    0.037788\n",
       "2016-03-21    0.037228\n",
       "2016-03-12    0.036897\n",
       "2016-03-14    0.036648\n",
       "2016-04-04    0.036544\n",
       "2016-03-07    0.036047\n",
       "2016-04-02    0.035591\n",
       "2016-03-28    0.034948\n",
       "2016-03-19    0.034762\n",
       "2016-03-15    0.034305\n",
       "2016-03-29    0.034098\n",
       "2016-03-30    0.033725\n",
       "2016-04-01    0.033704\n",
       "2016-03-08    0.033207\n",
       "2016-03-09    0.033000\n",
       "2016-03-22    0.032917\n",
       "2016-03-11    0.032606\n",
       "2016-03-26    0.032316\n",
       "2016-03-23    0.032295\n",
       "2016-03-10    0.032274\n",
       "2016-03-31    0.031860\n",
       "2016-03-17    0.031528\n",
       "2016-03-25    0.031507\n",
       "2016-03-27    0.031113\n",
       "2016-03-24    0.029455\n",
       "2016-03-16    0.029455\n",
       "2016-03-05    0.025372\n",
       "2016-03-13    0.015671\n",
       "2016-03-06    0.014033\n",
       "2016-04-05    0.013059\n",
       "2016-03-18    0.012893\n",
       "2016-04-06    0.003171\n",
       "2016-04-07    0.001389\n",
       "Name: date_crawled, dtype: float64"
      ]
     },
     "execution_count": 28,
     "metadata": {},
     "output_type": "execute_result"
    }
   ],
   "source": [
    "autos['date_crawled'].value_counts(normalize=True, dropna=False)"
   ]
  },
  {
   "cell_type": "code",
   "execution_count": 29,
   "metadata": {},
   "outputs": [
    {
     "data": {
      "text/plain": [
       "0        2016-03-26\n",
       "1        2016-04-04\n",
       "2        2016-03-26\n",
       "3        2016-03-12\n",
       "4        2016-04-01\n",
       "5        2016-03-21\n",
       "6        2016-03-20\n",
       "7        2016-03-16\n",
       "8        2016-03-22\n",
       "9        2016-03-16\n",
       "10       2016-03-15\n",
       "11       2016-03-16\n",
       "12       2016-03-31\n",
       "13       2016-03-23\n",
       "14       2016-03-23\n",
       "15       2016-04-01\n",
       "16       2016-03-16\n",
       "17       2016-03-29\n",
       "18       2016-03-26\n",
       "19       2016-03-17\n",
       "20       2016-03-05\n",
       "21       2016-03-06\n",
       "22       2016-03-28\n",
       "23       2016-03-10\n",
       "24       2016-04-03\n",
       "26       2016-04-03\n",
       "28       2016-03-19\n",
       "29       2016-04-02\n",
       "31       2016-03-14\n",
       "32       2016-03-20\n",
       "            ...    \n",
       "49968    2016-04-01\n",
       "49969    2016-03-17\n",
       "49970    2016-03-21\n",
       "49971    2016-03-29\n",
       "49972    2016-03-26\n",
       "49973    2016-03-27\n",
       "49975    2016-03-27\n",
       "49976    2016-03-19\n",
       "49977    2016-03-31\n",
       "49978    2016-04-04\n",
       "49979    2016-03-20\n",
       "49980    2016-03-12\n",
       "49981    2016-03-15\n",
       "49982    2016-03-29\n",
       "49983    2016-03-06\n",
       "49985    2016-04-02\n",
       "49986    2016-04-04\n",
       "49987    2016-03-22\n",
       "49988    2016-03-28\n",
       "49989    2016-03-11\n",
       "49990    2016-03-21\n",
       "49991    2016-03-06\n",
       "49992    2016-03-10\n",
       "49993    2016-03-15\n",
       "49994    2016-03-22\n",
       "49995    2016-03-27\n",
       "49996    2016-03-28\n",
       "49997    2016-04-02\n",
       "49998    2016-03-08\n",
       "49999    2016-03-14\n",
       "Name: date_crawled, Length: 48243, dtype: object"
      ]
     },
     "execution_count": 29,
     "metadata": {},
     "output_type": "execute_result"
    }
   ],
   "source": [
    "autos['date_crawled'].sort_index()"
   ]
  },
  {
   "cell_type": "code",
   "execution_count": 30,
   "metadata": {
    "collapsed": true
   },
   "outputs": [],
   "source": [
    "autos['ad_created'] = autos['ad_created'].str[:10]"
   ]
  },
  {
   "cell_type": "code",
   "execution_count": 31,
   "metadata": {},
   "outputs": [
    {
     "data": {
      "text/plain": [
       "count          48243\n",
       "unique            76\n",
       "top       2016-04-03\n",
       "freq            1874\n",
       "Name: ad_created, dtype: object"
      ]
     },
     "execution_count": 31,
     "metadata": {},
     "output_type": "execute_result"
    }
   ],
   "source": [
    "autos['ad_created'].describe()"
   ]
  },
  {
   "cell_type": "code",
   "execution_count": 32,
   "metadata": {},
   "outputs": [
    {
     "data": {
      "text/plain": [
       "2016-04-03    0.038845\n",
       "2016-03-20    0.037850\n",
       "2016-03-21    0.037456\n",
       "2016-04-04    0.036897\n",
       "2016-03-12    0.036731\n",
       "2016-03-14    0.035280\n",
       "2016-04-02    0.035280\n",
       "2016-03-28    0.035052\n",
       "2016-03-07    0.034782\n",
       "2016-03-29    0.034057\n",
       "2016-03-15    0.034036\n",
       "2016-04-01    0.033684\n",
       "2016-03-19    0.033642\n",
       "2016-03-30    0.033539\n",
       "2016-03-08    0.033207\n",
       "2016-03-09    0.033083\n",
       "2016-03-11    0.032917\n",
       "2016-03-22    0.032730\n",
       "2016-03-26    0.032378\n",
       "2016-03-23    0.032129\n",
       "2016-03-10    0.031984\n",
       "2016-03-31    0.031901\n",
       "2016-03-25    0.031632\n",
       "2016-03-17    0.031196\n",
       "2016-03-27    0.031030\n",
       "2016-03-16    0.029953\n",
       "2016-03-24    0.029393\n",
       "2016-03-05    0.022926\n",
       "2016-03-13    0.017039\n",
       "2016-03-06    0.015298\n",
       "                ...   \n",
       "2016-02-02    0.000041\n",
       "2016-02-12    0.000041\n",
       "2016-02-24    0.000041\n",
       "2016-02-26    0.000041\n",
       "2016-02-14    0.000041\n",
       "2016-02-18    0.000041\n",
       "2016-02-05    0.000041\n",
       "2016-01-10    0.000041\n",
       "2016-02-20    0.000041\n",
       "2016-02-22    0.000021\n",
       "2015-12-30    0.000021\n",
       "2016-01-13    0.000021\n",
       "2016-02-11    0.000021\n",
       "2016-02-08    0.000021\n",
       "2015-06-11    0.000021\n",
       "2016-01-29    0.000021\n",
       "2015-11-10    0.000021\n",
       "2015-12-05    0.000021\n",
       "2016-02-01    0.000021\n",
       "2016-01-07    0.000021\n",
       "2016-01-16    0.000021\n",
       "2016-01-14    0.000021\n",
       "2016-01-03    0.000021\n",
       "2016-02-16    0.000021\n",
       "2015-09-09    0.000021\n",
       "2016-02-09    0.000021\n",
       "2016-01-22    0.000021\n",
       "2015-08-10    0.000021\n",
       "2016-02-17    0.000021\n",
       "2016-02-07    0.000021\n",
       "Name: ad_created, Length: 76, dtype: float64"
      ]
     },
     "execution_count": 32,
     "metadata": {},
     "output_type": "execute_result"
    }
   ],
   "source": [
    "autos['ad_created'].value_counts(normalize=True, dropna=False)"
   ]
  },
  {
   "cell_type": "code",
   "execution_count": 33,
   "metadata": {
    "collapsed": true
   },
   "outputs": [],
   "source": [
    "autos['last_seen'] = autos['last_seen'].str[:10]"
   ]
  },
  {
   "cell_type": "code",
   "execution_count": 34,
   "metadata": {},
   "outputs": [
    {
     "data": {
      "text/plain": [
       "count          48243\n",
       "unique            34\n",
       "top       2016-04-06\n",
       "freq           10707\n",
       "Name: last_seen, dtype: object"
      ]
     },
     "execution_count": 34,
     "metadata": {},
     "output_type": "execute_result"
    }
   ],
   "source": [
    "autos['last_seen'].describe()"
   ]
  },
  {
   "cell_type": "code",
   "execution_count": 35,
   "metadata": {},
   "outputs": [
    {
     "data": {
      "text/plain": [
       "2016-04-06    0.221939\n",
       "2016-04-07    0.132102\n",
       "2016-04-05    0.125054\n",
       "2016-03-17    0.028087\n",
       "2016-04-03    0.025123\n",
       "2016-04-02    0.024895\n",
       "2016-03-30    0.024708\n",
       "2016-04-04    0.024542\n",
       "2016-03-31    0.023817\n",
       "2016-03-12    0.023775\n",
       "2016-04-01    0.022843\n",
       "2016-03-29    0.022283\n",
       "2016-03-22    0.021350\n",
       "2016-03-28    0.020853\n",
       "2016-03-20    0.020666\n",
       "2016-03-21    0.020563\n",
       "2016-03-24    0.019775\n",
       "2016-03-25    0.019132\n",
       "2016-03-23    0.018593\n",
       "2016-03-26    0.016666\n",
       "2016-03-16    0.016438\n",
       "2016-03-15    0.015878\n",
       "2016-03-19    0.015795\n",
       "2016-03-27    0.015546\n",
       "2016-03-14    0.012624\n",
       "2016-03-11    0.012396\n",
       "2016-03-10    0.010634\n",
       "2016-03-09    0.009597\n",
       "2016-03-13    0.008872\n",
       "2016-03-18    0.007317\n",
       "2016-03-08    0.007317\n",
       "2016-03-07    0.005431\n",
       "2016-03-06    0.004312\n",
       "2016-03-05    0.001078\n",
       "Name: last_seen, dtype: float64"
      ]
     },
     "execution_count": 35,
     "metadata": {},
     "output_type": "execute_result"
    }
   ],
   "source": [
    "autos['last_seen'].value_counts(normalize=True, dropna=False)"
   ]
  },
  {
   "cell_type": "code",
   "execution_count": 36,
   "metadata": {},
   "outputs": [
    {
     "data": {
      "text/plain": [
       "count    48243.000000\n",
       "mean      2004.729702\n",
       "std         87.880224\n",
       "min       1000.000000\n",
       "25%       1999.000000\n",
       "50%       2004.000000\n",
       "75%       2008.000000\n",
       "max       9999.000000\n",
       "Name: registration_year, dtype: float64"
      ]
     },
     "execution_count": 36,
     "metadata": {},
     "output_type": "execute_result"
    }
   ],
   "source": [
    "autos['registration_year'].describe()"
   ]
  },
  {
   "cell_type": "markdown",
   "metadata": {},
   "source": [
    "####  From the above there are years included which look incorrect including min of 1000 and 9999"
   ]
  },
  {
   "cell_type": "code",
   "execution_count": 37,
   "metadata": {},
   "outputs": [
    {
     "data": {
      "text/plain": [
       "2000    3105\n",
       "2005    2912\n",
       "1999    2879\n",
       "2004    2699\n",
       "2003    2694\n",
       "2006    2668\n",
       "2001    2629\n",
       "2002    2477\n",
       "1998    2344\n",
       "2007    2273\n",
       "2008    2210\n",
       "2009    2080\n",
       "1997    1929\n",
       "2011    1618\n",
       "2010    1587\n",
       "2017    1384\n",
       "1996    1357\n",
       "2012    1309\n",
       "2016    1203\n",
       "1995    1194\n",
       "2013     801\n",
       "2014     662\n",
       "1994     627\n",
       "2018     468\n",
       "1993     420\n",
       "2015     381\n",
       "1992     367\n",
       "1991     338\n",
       "1990     332\n",
       "1989     171\n",
       "        ... \n",
       "1934       2\n",
       "1951       2\n",
       "1941       2\n",
       "1954       2\n",
       "1955       2\n",
       "2019       2\n",
       "1910       2\n",
       "1957       2\n",
       "1800       2\n",
       "8888       1\n",
       "1950       1\n",
       "4500       1\n",
       "1929       1\n",
       "1953       1\n",
       "1111       1\n",
       "1001       1\n",
       "4800       1\n",
       "1931       1\n",
       "5911       1\n",
       "1948       1\n",
       "1927       1\n",
       "1943       1\n",
       "1939       1\n",
       "1938       1\n",
       "1000       1\n",
       "2800       1\n",
       "4100       1\n",
       "6200       1\n",
       "9000       1\n",
       "1952       1\n",
       "Name: registration_year, Length: 95, dtype: int64"
      ]
     },
     "execution_count": 37,
     "metadata": {},
     "output_type": "execute_result"
    }
   ],
   "source": [
    "autos['registration_year'].value_counts()"
   ]
  },
  {
   "cell_type": "code",
   "execution_count": 38,
   "metadata": {
    "collapsed": true
   },
   "outputs": [],
   "source": [
    "autos = autos[autos['registration_year'].between(1920,2017)]"
   ]
  },
  {
   "cell_type": "code",
   "execution_count": 39,
   "metadata": {},
   "outputs": [
    {
     "data": {
      "text/plain": [
       "2000    0.065023\n",
       "2005    0.060982\n",
       "1999    0.060291\n",
       "2004    0.056521\n",
       "2003    0.056416\n",
       "2006    0.055872\n",
       "2001    0.055055\n",
       "2002    0.051872\n",
       "1998    0.049087\n",
       "2007    0.047600\n",
       "2008    0.046281\n",
       "2009    0.043558\n",
       "1997    0.040396\n",
       "2011    0.033883\n",
       "2010    0.033234\n",
       "2017    0.028983\n",
       "1996    0.028418\n",
       "2012    0.027412\n",
       "2016    0.025193\n",
       "1995    0.025004\n",
       "2013    0.016774\n",
       "2014    0.013863\n",
       "1994    0.013130\n",
       "1993    0.008795\n",
       "2015    0.007979\n",
       "1992    0.007686\n",
       "1991    0.007078\n",
       "1990    0.006953\n",
       "1989    0.003581\n",
       "1988    0.002785\n",
       "          ...   \n",
       "1977    0.000461\n",
       "1960    0.000461\n",
       "1976    0.000440\n",
       "1969    0.000398\n",
       "1975    0.000377\n",
       "1965    0.000356\n",
       "1964    0.000251\n",
       "1963    0.000168\n",
       "1959    0.000126\n",
       "1961    0.000126\n",
       "1956    0.000084\n",
       "1958    0.000084\n",
       "1962    0.000084\n",
       "1937    0.000084\n",
       "1954    0.000042\n",
       "1941    0.000042\n",
       "1934    0.000042\n",
       "1951    0.000042\n",
       "1957    0.000042\n",
       "1955    0.000042\n",
       "1950    0.000021\n",
       "1953    0.000021\n",
       "1948    0.000021\n",
       "1929    0.000021\n",
       "1931    0.000021\n",
       "1938    0.000021\n",
       "1943    0.000021\n",
       "1939    0.000021\n",
       "1927    0.000021\n",
       "1952    0.000021\n",
       "Name: registration_year, Length: 78, dtype: float64"
      ]
     },
     "execution_count": 39,
     "metadata": {},
     "output_type": "execute_result"
    }
   ],
   "source": [
    "autos['registration_year'].value_counts(normalize=True)"
   ]
  },
  {
   "cell_type": "markdown",
   "metadata": {
    "collapsed": true
   },
   "source": [
    "Exploring the brands of cars"
   ]
  },
  {
   "cell_type": "code",
   "execution_count": 40,
   "metadata": {},
   "outputs": [
    {
     "data": {
      "text/plain": [
       "volkswagen        0.212787\n",
       "bmw               0.108959\n",
       "opel              0.108058\n",
       "mercedes_benz     0.096038\n",
       "audi              0.086237\n",
       "ford              0.069756\n",
       "renault           0.047621\n",
       "peugeot           0.029590\n",
       "fiat              0.025884\n",
       "seat              0.018596\n",
       "skoda             0.016167\n",
       "nissan            0.015371\n",
       "mazda             0.015287\n",
       "smart             0.014324\n",
       "citroen           0.014136\n",
       "toyota            0.012753\n",
       "hyundai           0.009989\n",
       "sonstige_autos    0.009361\n",
       "volvo             0.009068\n",
       "mini              0.008733\n",
       "Name: brand, dtype: float64"
      ]
     },
     "execution_count": 40,
     "metadata": {},
     "output_type": "execute_result"
    }
   ],
   "source": [
    "autos['brand'].value_counts(normalize=True).head(20)"
   ]
  },
  {
   "cell_type": "code",
   "execution_count": 41,
   "metadata": {},
   "outputs": [
    {
     "data": {
      "text/plain": [
       "Index(['volkswagen', 'bmw', 'opel', 'mercedes_benz', 'audi', 'ford', 'renault',\n",
       "       'peugeot', 'fiat', 'seat', 'skoda', 'nissan', 'mazda', 'smart',\n",
       "       'citroen', 'toyota', 'hyundai', 'sonstige_autos', 'volvo', 'mini'],\n",
       "      dtype='object')"
      ]
     },
     "execution_count": 41,
     "metadata": {},
     "output_type": "execute_result"
    }
   ],
   "source": [
    "autos['brand'].value_counts().sort_values(ascending=False).head(20).index"
   ]
  },
  {
   "cell_type": "code",
   "execution_count": 42,
   "metadata": {
    "collapsed": true
   },
   "outputs": [],
   "source": [
    "top_brands = autos['brand'].value_counts().sort_values(ascending=False).head(20).index"
   ]
  },
  {
   "cell_type": "code",
   "execution_count": 43,
   "metadata": {
    "collapsed": true
   },
   "outputs": [],
   "source": [
    "car_brands = {}\n",
    "for brand in autos['brand'][1:]:\n",
    "    if brand in car_brands:\n",
    "        car_brands[brand] += 1\n",
    "    else:\n",
    "        car_brands[brand] = 1"
   ]
  },
  {
   "cell_type": "code",
   "execution_count": 44,
   "metadata": {},
   "outputs": [
    {
     "name": "stdout",
     "output_type": "stream",
     "text": [
      "{'nissan': 734, 'ford': 3331, 'kia': 340, 'daihatsu': 119, 'honda': 379, 'mazda': 730, 'skoda': 772, 'mitsubishi': 387, 'mercedes_benz': 4586, 'daewoo': 74, 'jeep': 107, 'hyundai': 477, 'alfa_romeo': 318, 'volvo': 433, 'porsche': 279, 'chevrolet': 268, 'lada': 27, 'chrysler': 168, 'suzuki': 280, 'subaru': 99, 'fiat': 1236, 'lancia': 53, 'saab': 78, 'opel': 5160, 'land_rover': 99, 'jaguar': 71, 'trabant': 65, 'volkswagen': 10161, 'peugeot': 1412, 'rover': 65, 'smart': 684, 'toyota': 609, 'mini': 417, 'audi': 4118, 'citroen': 675, 'dacia': 128, 'seat': 888, 'bmw': 5203, 'renault': 2274, 'sonstige_autos': 447}\n"
     ]
    }
   ],
   "source": [
    "print(car_brands)"
   ]
  },
  {
   "cell_type": "code",
   "execution_count": 45,
   "metadata": {},
   "outputs": [
    {
     "data": {
      "text/plain": [
       "array(['peugeot', 'bmw', 'volkswagen', 'smart', 'ford', 'chrysler',\n",
       "       'seat', 'renault', 'mercedes_benz', 'audi', 'sonstige_autos',\n",
       "       'opel', 'mazda', 'porsche', 'mini', 'toyota', 'dacia', 'nissan',\n",
       "       'jeep', 'saab', 'volvo', 'mitsubishi', 'jaguar', 'fiat', 'skoda',\n",
       "       'subaru', 'kia', 'citroen', 'chevrolet', 'hyundai', 'honda',\n",
       "       'daewoo', 'suzuki', 'trabant', 'land_rover', 'alfa_romeo', 'lada',\n",
       "       'rover', 'daihatsu', 'lancia'], dtype=object)"
      ]
     },
     "execution_count": 45,
     "metadata": {},
     "output_type": "execute_result"
    }
   ],
   "source": [
    "autos['brand'].unique()"
   ]
  },
  {
   "cell_type": "code",
   "execution_count": 46,
   "metadata": {
    "collapsed": true
   },
   "outputs": [],
   "source": [
    "mean_price = {}\n",
    "for car in autos['brand'].unique():\n",
    "    selected = autos[autos['brand'] == car]\n",
    "    mean_price[car] = selected['price'].mean()\n",
    "    \n",
    "    "
   ]
  },
  {
   "cell_type": "code",
   "execution_count": 47,
   "metadata": {},
   "outputs": [
    {
     "name": "stdout",
     "output_type": "stream",
     "text": [
      "{'nissan': 4683.061307901908, 'ford': 3761.099069348544, 'kia': 5942.905882352941, 'daihatsu': 1625.1512605042017, 'honda': 4052.651715039578, 'mazda': 4082.6534246575343, 'skoda': 6382.124352331606, 'mitsubishi': 3422.891472868217, 'mercedes_benz': 8572.807239424335, 'daewoo': 1105.6756756756756, 'jeep': 11590.214953271028, 'hyundai': 5391.7945492662475, 'alfa_romeo': 4067.393081761006, 'volvo': 4917.5103926097, 'porsche': 46788.444444444445, 'chevrolet': 6762.462686567164, 'lada': 2688.296296296296, 'chrysler': 3539.9166666666665, 'suzuki': 4157.9, 'subaru': 4001.090909090909, 'fiat': 2804.398867313916, 'lancia': 3230.169811320755, 'saab': 3192.269230769231, 'opel': 2980.7288759689923, 'land_rover': 18934.272727272728, 'jaguar': 11961.56338028169, 'trabant': 1843.5384615384614, 'volkswagen': 5382.330184037004, 'peugeot': 3090.8648266100495, 'rover': 1586.4923076923078, 'smart': 3550.3055555555557, 'toyota': 5151.940886699507, 'mini': 10566.824940047962, 'audi': 9286.365225837786, 'citroen': 3769.6637037037035, 'dacia': 5920.3828125, 'seat': 4388.873873873874, 'bmw': 8328.581971939266, 'renault': 2461.5967458223395, 'sonstige_autos': 12725.787472035794}\n"
     ]
    }
   ],
   "source": [
    "print(mean_price)"
   ]
  },
  {
   "cell_type": "markdown",
   "metadata": {},
   "source": [
    "### Average price of all cars"
   ]
  },
  {
   "cell_type": "code",
   "execution_count": 48,
   "metadata": {},
   "outputs": [
    {
     "data": {
      "text/plain": [
       "5946.908862456023"
      ]
     },
     "execution_count": 48,
     "metadata": {},
     "output_type": "execute_result"
    }
   ],
   "source": [
    "autos['price'].mean()"
   ]
  },
  {
   "cell_type": "code",
   "execution_count": 49,
   "metadata": {},
   "outputs": [
    {
     "data": {
      "text/plain": [
       "[('porsche', 46788.444444444445),\n",
       " ('land_rover', 18934.272727272728),\n",
       " ('sonstige_autos', 12725.787472035794),\n",
       " ('jaguar', 11961.56338028169),\n",
       " ('jeep', 11590.214953271028),\n",
       " ('mini', 10566.824940047962),\n",
       " ('audi', 9286.365225837786),\n",
       " ('mercedes_benz', 8572.807239424335),\n",
       " ('bmw', 8328.581971939266),\n",
       " ('chevrolet', 6762.462686567164),\n",
       " ('skoda', 6382.124352331606),\n",
       " ('kia', 5942.905882352941),\n",
       " ('dacia', 5920.3828125),\n",
       " ('hyundai', 5391.7945492662475),\n",
       " ('volkswagen', 5382.330184037004),\n",
       " ('toyota', 5151.940886699507),\n",
       " ('volvo', 4917.5103926097),\n",
       " ('nissan', 4683.061307901908),\n",
       " ('seat', 4388.873873873874),\n",
       " ('suzuki', 4157.9),\n",
       " ('mazda', 4082.6534246575343),\n",
       " ('alfa_romeo', 4067.393081761006),\n",
       " ('honda', 4052.651715039578),\n",
       " ('subaru', 4001.090909090909),\n",
       " ('citroen', 3769.6637037037035),\n",
       " ('ford', 3761.099069348544),\n",
       " ('smart', 3550.3055555555557),\n",
       " ('chrysler', 3539.9166666666665),\n",
       " ('mitsubishi', 3422.891472868217),\n",
       " ('lancia', 3230.169811320755),\n",
       " ('saab', 3192.269230769231),\n",
       " ('peugeot', 3090.8648266100495),\n",
       " ('opel', 2980.7288759689923),\n",
       " ('fiat', 2804.398867313916),\n",
       " ('lada', 2688.296296296296),\n",
       " ('renault', 2461.5967458223395),\n",
       " ('trabant', 1843.5384615384614),\n",
       " ('daihatsu', 1625.1512605042017),\n",
       " ('rover', 1586.4923076923078),\n",
       " ('daewoo', 1105.6756756756756)]"
      ]
     },
     "execution_count": 49,
     "metadata": {},
     "output_type": "execute_result"
    }
   ],
   "source": [
    "sorted(mean_price.items(), key=lambda x: x[1], reverse=True)"
   ]
  },
  {
   "cell_type": "markdown",
   "metadata": {},
   "source": [
    "### Finding the top brands based on the numbers of cars sold"
   ]
  },
  {
   "cell_type": "code",
   "execution_count": 50,
   "metadata": {},
   "outputs": [],
   "source": [
    "top_20 = autos['brand'].value_counts().sort_values(ascending=False).head(20).index"
   ]
  },
  {
   "cell_type": "code",
   "execution_count": 51,
   "metadata": {},
   "outputs": [
    {
     "name": "stdout",
     "output_type": "stream",
     "text": [
      "Index(['volkswagen', 'bmw', 'opel', 'mercedes_benz', 'audi', 'ford', 'renault',\n",
      "       'peugeot', 'fiat', 'seat', 'skoda', 'nissan', 'mazda', 'smart',\n",
      "       'citroen', 'toyota', 'hyundai', 'sonstige_autos', 'volvo', 'mini'],\n",
      "      dtype='object')\n"
     ]
    }
   ],
   "source": [
    "print(top_20)"
   ]
  },
  {
   "cell_type": "markdown",
   "metadata": {},
   "source": [
    "### Finding the mean prices of the top 20 brands sold"
   ]
  },
  {
   "cell_type": "code",
   "execution_count": 52,
   "metadata": {},
   "outputs": [],
   "source": [
    "top_mean_price = {}\n",
    "for car in top_20:\n",
    "    selected = autos[autos['brand'] == car]\n",
    "    top_mean_price[car] = selected['price'].mean()"
   ]
  },
  {
   "cell_type": "code",
   "execution_count": 53,
   "metadata": {},
   "outputs": [
    {
     "name": "stdout",
     "output_type": "stream",
     "text": [
      "{'nissan': 4683.061307901908, 'fiat': 2804.398867313916, 'opel': 2980.7288759689923, 'volvo': 4917.5103926097, 'mazda': 4082.6534246575343, 'audi': 9286.365225837786, 'mercedes_benz': 8572.807239424335, 'volkswagen': 5382.330184037004, 'peugeot': 3090.8648266100495, 'smart': 3550.3055555555557, 'hyundai': 5391.7945492662475, 'toyota': 5151.940886699507, 'mini': 10566.824940047962, 'skoda': 6382.124352331606, 'ford': 3761.099069348544, 'citroen': 3769.6637037037035, 'seat': 4388.873873873874, 'bmw': 8328.581971939266, 'renault': 2461.5967458223395, 'sonstige_autos': 12725.787472035794}\n"
     ]
    }
   ],
   "source": [
    "print(top_mean_price)"
   ]
  },
  {
   "cell_type": "code",
   "execution_count": 55,
   "metadata": {},
   "outputs": [
    {
     "data": {
      "text/plain": [
       "[('sonstige_autos', 12725.787472035794),\n",
       " ('mini', 10566.824940047962),\n",
       " ('audi', 9286.365225837786),\n",
       " ('mercedes_benz', 8572.807239424335),\n",
       " ('bmw', 8328.581971939266),\n",
       " ('skoda', 6382.124352331606),\n",
       " ('hyundai', 5391.7945492662475),\n",
       " ('volkswagen', 5382.330184037004),\n",
       " ('toyota', 5151.940886699507),\n",
       " ('volvo', 4917.5103926097),\n",
       " ('nissan', 4683.061307901908),\n",
       " ('seat', 4388.873873873874),\n",
       " ('mazda', 4082.6534246575343),\n",
       " ('citroen', 3769.6637037037035),\n",
       " ('ford', 3761.099069348544),\n",
       " ('smart', 3550.3055555555557),\n",
       " ('peugeot', 3090.8648266100495),\n",
       " ('opel', 2980.7288759689923),\n",
       " ('fiat', 2804.398867313916),\n",
       " ('renault', 2461.5967458223395)]"
      ]
     },
     "execution_count": 55,
     "metadata": {},
     "output_type": "execute_result"
    }
   ],
   "source": [
    "sorted(top_mean_price.items(), key=lambda x: x[1], reverse=True)"
   ]
  },
  {
   "cell_type": "markdown",
   "metadata": {},
   "source": [
    "### Top 5 brands and mean prices \n",
    "\n",
    "|  Brand  |  Mean Price  |\n",
    "|------|------|\n",
    "| Volkswagen | 5382   |\n",
    "    |  bmw   | 8328  |\n",
    "    |   opel  |   2980 |\n",
    "    | mercedes_benz | 8572  |\n",
    "| audi   | 9286  |"
   ]
  },
  {
   "cell_type": "markdown",
   "metadata": {},
   "source": [
    "#### With the mean price across the data being $5946, from the above, the top 5 brands include 3 premium brands - BMW, MB, Audi - one average brand - VW - and one cheap brand - Opel"
   ]
  },
  {
   "cell_type": "markdown",
   "metadata": {},
   "source": [
    "Use the loop method to calculate the mean mileage and mean price for each of the top brands, storing the results in a dictionary."
   ]
  },
  {
   "cell_type": "code",
   "execution_count": 57,
   "metadata": {},
   "outputs": [],
   "source": [
    "top_mean_milage = {}\n",
    "for car in top_20:\n",
    "    selected = autos[autos['brand'] == car]\n",
    "    top_mean_milage[car] = selected['odometer_kms'].mean()"
   ]
  },
  {
   "cell_type": "code",
   "execution_count": 58,
   "metadata": {},
   "outputs": [
    {
     "name": "stdout",
     "output_type": "stream",
     "text": [
      "{'nissan': 118678.47411444141, 'fiat': 117269.41747572816, 'opel': 129487.40310077519, 'volvo': 138787.52886836027, 'mazda': 124753.42465753424, 'audi': 129519.18406993686, 'mercedes_benz': 131196.03139991278, 'volkswagen': 129022.24190532428, 'peugeot': 127275.30077848549, 'smart': 100562.86549707603, 'hyundai': 107148.84696016772, 'toyota': 116338.25944170772, 'mini': 89100.71942446043, 'skoda': 111042.74611398963, 'ford': 124265.98619033323, 'citroen': 119933.33333333333, 'seat': 122015.76576576577, 'bmw': 132766.673073227, 'renault': 128370.71240105541, 'sonstige_autos': 90738.25503355704}\n"
     ]
    }
   ],
   "source": [
    "print(top_mean_milage)"
   ]
  },
  {
   "cell_type": "code",
   "execution_count": 59,
   "metadata": {
    "collapsed": true
   },
   "outputs": [],
   "source": [
    "bmp_series = pd.Series(top_mean_price)"
   ]
  },
  {
   "cell_type": "code",
   "execution_count": 60,
   "metadata": {},
   "outputs": [
    {
     "name": "stdout",
     "output_type": "stream",
     "text": [
      "audi               9286.365226\n",
      "bmw                8328.581972\n",
      "citroen            3769.663704\n",
      "fiat               2804.398867\n",
      "ford               3761.099069\n",
      "hyundai            5391.794549\n",
      "mazda              4082.653425\n",
      "mercedes_benz      8572.807239\n",
      "mini              10566.824940\n",
      "nissan             4683.061308\n",
      "opel               2980.728876\n",
      "peugeot            3090.864827\n",
      "renault            2461.596746\n",
      "seat               4388.873874\n",
      "skoda              6382.124352\n",
      "smart              3550.305556\n",
      "sonstige_autos    12725.787472\n",
      "toyota             5151.940887\n",
      "volkswagen         5382.330184\n",
      "volvo              4917.510393\n",
      "dtype: float64\n"
     ]
    }
   ],
   "source": [
    "print(bmp_series)"
   ]
  },
  {
   "cell_type": "code",
   "execution_count": 61,
   "metadata": {
    "collapsed": true
   },
   "outputs": [],
   "source": [
    "bmm_series = pd.Series(top_mean_milage)"
   ]
  },
  {
   "cell_type": "code",
   "execution_count": 62,
   "metadata": {},
   "outputs": [
    {
     "name": "stdout",
     "output_type": "stream",
     "text": [
      "audi              129519.184070\n",
      "bmw               132766.673073\n",
      "citroen           119933.333333\n",
      "fiat              117269.417476\n",
      "ford              124265.986190\n",
      "hyundai           107148.846960\n",
      "mazda             124753.424658\n",
      "mercedes_benz     131196.031400\n",
      "mini               89100.719424\n",
      "nissan            118678.474114\n",
      "opel              129487.403101\n",
      "peugeot           127275.300778\n",
      "renault           128370.712401\n",
      "seat              122015.765766\n",
      "skoda             111042.746114\n",
      "smart             100562.865497\n",
      "sonstige_autos     90738.255034\n",
      "toyota            116338.259442\n",
      "volkswagen        129022.241905\n",
      "volvo             138787.528868\n",
      "dtype: float64\n"
     ]
    }
   ],
   "source": [
    "print(bmm_series)"
   ]
  },
  {
   "cell_type": "code",
   "execution_count": 69,
   "metadata": {},
   "outputs": [],
   "source": [
    "df = pd.DataFrame(round(bmp_series), columns=['mean_price'])\n"
   ]
  },
  {
   "cell_type": "code",
   "execution_count": 73,
   "metadata": {},
   "outputs": [],
   "source": [
    "df.insert(1, 'mean_mileage', bmm_series)"
   ]
  },
  {
   "cell_type": "code",
   "execution_count": 79,
   "metadata": {},
   "outputs": [
    {
     "name": "stdout",
     "output_type": "stream",
     "text": [
      "                mean_price  mean_mileage\n",
      "audi                9286.4      129519.2\n",
      "bmw                 8328.6      132766.7\n",
      "citroen             3769.7      119933.3\n",
      "fiat                2804.4      117269.4\n",
      "ford                3761.1      124266.0\n",
      "hyundai             5391.8      107148.8\n",
      "mazda               4082.7      124753.4\n",
      "mercedes_benz       8572.8      131196.0\n",
      "mini               10566.8       89100.7\n",
      "nissan              4683.1      118678.5\n",
      "opel                2980.7      129487.4\n",
      "peugeot             3090.9      127275.3\n",
      "renault             2461.6      128370.7\n",
      "seat                4388.9      122015.8\n",
      "skoda               6382.1      111042.7\n",
      "smart               3550.3      100562.9\n",
      "sonstige_autos     12725.8       90738.3\n",
      "toyota              5151.9      116338.3\n",
      "volkswagen          5382.3      129022.2\n",
      "volvo               4917.5      138787.5\n"
     ]
    }
   ],
   "source": [
    "print(df.round(1))"
   ]
  },
  {
   "cell_type": "markdown",
   "metadata": {
    "collapsed": true
   },
   "source": [
    "### There seems to be a link between lower milage and higher prices - looking at Mini and Sonstiage Autos"
   ]
  },
  {
   "cell_type": "code",
   "execution_count": null,
   "metadata": {
    "collapsed": true
   },
   "outputs": [],
   "source": []
  }
 ],
 "metadata": {
  "kernelspec": {
   "display_name": "Python 3",
   "language": "python",
   "name": "python3"
  },
  "language_info": {
   "codemirror_mode": {
    "name": "ipython",
    "version": 3
   },
   "file_extension": ".py",
   "mimetype": "text/x-python",
   "name": "python",
   "nbconvert_exporter": "python",
   "pygments_lexer": "ipython3",
   "version": "3.7.6"
  }
 },
 "nbformat": 4,
 "nbformat_minor": 2
}
